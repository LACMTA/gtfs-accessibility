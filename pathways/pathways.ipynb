{
 "cells": [
  {
   "cell_type": "markdown",
   "metadata": {},
   "source": [
    "# Pathways\n",
    "\n",
    "This jupyter notebook for a proof of concept to transform existing Metro Rail data to include GTFS-pathways data.\n",
    "\n",
    "## Setup\n",
    "\n",
    "Setup for using pandas and download the latest rail GTFS from the API."
   ]
  },
  {
   "cell_type": "code",
   "execution_count": null,
   "metadata": {},
   "outputs": [],
   "source": [
    "import pandas as pd\n",
    "import os\n",
    "\n",
    "# download the rail stops data as geojson\n",
    "# os.system(\"curl -o data/stops.geojson https://api.metro.net/LACMTA_Rail/stops/all\")\n",
    "\n",
    "# download the rail stops data as the original GTFS csv\n",
    "os.system(\"curl -o data/stops.csv https://gitlab.com/LACMTA/gtfs_rail/-/raw/master/stops.txt\")\n",
    "\n",
    "stops_df = pd.read_csv(\"data/stops.csv\")\n",
    "# stops_df.head()"
   ]
  },
  {
   "cell_type": "code",
   "execution_count": null,
   "metadata": {},
   "outputs": [],
   "source": [
    "\n",
    "\n"
   ]
  }
 ],
 "metadata": {
  "kernelspec": {
   "display_name": "Python 3",
   "language": "python",
   "name": "python3"
  },
  "language_info": {
   "codemirror_mode": {
    "name": "ipython",
    "version": 3
   },
   "file_extension": ".py",
   "mimetype": "text/x-python",
   "name": "python",
   "nbconvert_exporter": "python",
   "pygments_lexer": "ipython3",
   "version": "3.10.6"
  }
 },
 "nbformat": 4,
 "nbformat_minor": 2
}
